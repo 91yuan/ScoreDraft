{
 "cells": [
  {
   "cell_type": "code",
   "execution_count": null,
   "metadata": {
    "scrolled": true
   },
   "outputs": [],
   "source": [
    "import ScoreDraft\n",
    "from ScoreDraftNotes import *\n",
    "from IPython.display import Audio, display\n",
    "\n",
    "import os\n",
    "files = [f for f in os.listdir('.') if os.path.isfile(f)]\n",
    "for f in files:\n",
    "    print(f)\n",
    "\n",
    "doc=ScoreDraft.Document()\n",
    "seq=[do(),do(),so(),so(),la(),la(),so(5,96)]\n",
    "\n",
    "doc.playNoteSeq(seq, ScoreDraft.NaivePiano())\n",
    "\n",
    "buf=ScoreDraft.TrackBuffer()\n",
    "doc.mix(buf)\n",
    "\n",
    "bytes=ScoreDraft.GetPCMDataFromTrackBuffer(buf)\n",
    "\n",
    "Audio(data=bytes, rate=44100)\n"
   ]
  }
 ],
 "metadata": {
  "kernelspec": {
   "display_name": "Python 3",
   "language": "python",
   "name": "python3"
  },
  "language_info": {
   "codemirror_mode": {
    "name": "ipython",
    "version": 3
   },
   "file_extension": ".py",
   "mimetype": "text/x-python",
   "name": "python",
   "nbconvert_exporter": "python",
   "pygments_lexer": "ipython3",
   "version": "3.6.3"
  }
 },
 "nbformat": 4,
 "nbformat_minor": 2
}
